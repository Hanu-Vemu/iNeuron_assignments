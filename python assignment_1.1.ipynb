{
 "cells": [
  {
   "cell_type": "code",
   "execution_count": 34,
   "metadata": {},
   "outputs": [],
   "source": [
    "\n",
    "\n",
    "##1. Write a program which will find all such numbers which are divisible by 7 but are not a multiple of 5,\n",
    "##between 2000 and 3200 (both included). The numbers obtained should be printed in a comma-separated sequence on a single line.\n",
    "\n",
    "\n",
    "list = [num for num in range(2000,3201) if num%5!=0 and num%7==0]"
   ]
  },
  {
   "cell_type": "code",
   "execution_count": null,
   "metadata": {},
   "outputs": [],
   "source": [
    "#print(list)"
   ]
  },
  {
   "cell_type": "code",
   "execution_count": null,
   "metadata": {},
   "outputs": [],
   "source": []
  },
  {
   "cell_type": "markdown",
   "metadata": {},
   "source": []
  },
  {
   "cell_type": "code",
   "execution_count": 43,
   "metadata": {},
   "outputs": [
    {
     "name": "stdout",
     "output_type": "stream",
     "text": [
      "Enter first name:hanu\n",
      "Enter last name:vemu\n",
      "unah umev\n"
     ]
    }
   ],
   "source": [
    "\n",
    "\n",
    "##2. Write a Python program to accept the user's first and last name and then,\n",
    "##getting them printed in the reverse order with a space between first name and last name.\n",
    "\n",
    "\n",
    "first_name =input(\"Enter first name: \")\n",
    "last_name = input(\"Enter last name: \")\n",
    "\n",
    "print(first_name[::-1]+ ' ' + last_name[::-1])"
   ]
  },
  {
   "cell_type": "code",
   "execution_count": 45,
   "metadata": {},
   "outputs": [],
   "source": []
  },
  {
   "cell_type": "markdown",
   "metadata": {},
   "source": []
  },
  {
   "cell_type": "code",
   "execution_count": 50,
   "metadata": {},
   "outputs": [
    {
     "name": "stdout",
     "output_type": "stream",
     "text": [
      "volume of a sphere is 523.60\n"
     ]
    }
   ],
   "source": [
    "\n",
    "\n",
    "##3. Write a Python program to find the volume of a sphere with diameter 12 cm.Formula: V=4/3 * π * r 3\n",
    "\n",
    "\n",
    "import math\n",
    "\n",
    "#converting diameter to radius(r)\n",
    "r = 10/2\n",
    "pi = math.pi\n",
    "volume = 4/3 * pi * r**3\n",
    "print(\"volume of a sphere is %.2f\" %volume)"
   ]
  },
  {
   "cell_type": "code",
   "execution_count": null,
   "metadata": {},
   "outputs": [],
   "source": []
  }
 ],
 "metadata": {
  "kernelspec": {
   "display_name": "Python 3",
   "language": "python",
   "name": "python3"
  },
  "language_info": {
   "codemirror_mode": {
    "name": "ipython",
    "version": 3
   },
   "file_extension": ".py",
   "mimetype": "text/x-python",
   "name": "python",
   "nbconvert_exporter": "python",
   "pygments_lexer": "ipython3",
   "version": "3.8.5"
  }
 },
 "nbformat": 4,
 "nbformat_minor": 4
}
