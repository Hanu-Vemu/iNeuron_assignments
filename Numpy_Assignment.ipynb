{
 "cells": [
  {
   "cell_type": "code",
   "execution_count": 18,
   "metadata": {},
   "outputs": [
    {
     "name": "stdout",
     "output_type": "stream",
     "text": [
      "Vander matrix of the input array in increasing order of powers:\n",
      "\n",
      " [[  1   1   1   1   1]\n",
      " [  1   2   4   8  16]\n",
      " [  1   3   9  27  81]\n",
      " [  1   4  16  64 256]\n",
      " [  1   5  25 125 625]] \n",
      "\n",
      "Vander matrix of the input array in decreasing order of powers:\n",
      "\n",
      " [[  1   1   1   1   1]\n",
      " [ 16   8   4   2   1]\n",
      " [ 81  27   9   3   1]\n",
      " [256  64  16   4   1]\n",
      " [625 125  25   5   1]] \n",
      "\n",
      "Vander matrix of the input array in decreasing order of powers and N-columns:\n",
      "\n",
      " [[ 1  1  1]\n",
      " [ 4  2  1]\n",
      " [ 9  3  1]\n",
      " [16  4  1]\n",
      " [25  5  1]] \n",
      "\n"
     ]
    }
   ],
   "source": [
    "# Write a function so that the columns of the output matrix are powers of the input\n",
    "# vector.\n",
    "# The order of the powers is determined by the increasing boolean argument. Specifically, when\n",
    "# increasing is False, the i-th output column is the input vector raised element-wise to the power\n",
    "# of N - i - 1.\n",
    "\n",
    "# HINT: Such a matrix with a geometric progression in each row is named for Alexandre-\n",
    "# Theophile Vandermonde.\n",
    "\n",
    "import numpy as np\n",
    "\n",
    "def vander_func_increase(arr):\n",
    "       \n",
    "    res = np.vander(arr, increasing=True)\n",
    "    \n",
    "    return res\n",
    "\n",
    "arr = np.array([1, 2, 3, 4, 5])\n",
    "print(\"Vander matrix of the input array in increasing order of powers:\\n\\n\", vander_func_increase(arr),\"\\n\")\n",
    "\n",
    "def vander_func_dec(arr):\n",
    "       \n",
    "    res = np.vander(arr, increasing=False)\n",
    "    \n",
    "    return res\n",
    "\n",
    "arr = np.array([1, 2, 3, 4, 5])\n",
    "print(\"Vander matrix of the input array in decreasing order of powers:\\n\\n\", vander_func_dec(arr),\"\\n\")\n",
    "\n",
    "def vander_func_N(arr, N):\n",
    "    \n",
    "    res = np.vander(arr, N)\n",
    "    \n",
    "    return res\n",
    "\n",
    "arr = np.array([1, 2, 3, 4, 5])\n",
    "print(\"Vander matrix of the input array in decreasing order of powers and N-columns:\\n\\n\", vander_func_N(arr, 3),\"\\n\")\n"
   ]
  },
  {
   "cell_type": "code",
   "execution_count": null,
   "metadata": {},
   "outputs": [],
   "source": []
  },
  {
   "cell_type": "code",
   "execution_count": 16,
   "metadata": {},
   "outputs": [
    {
     "data": {
      "text/plain": [
       "array([  5.  ,   4.67,   5.67,   6.67,   9.67,  28.67,  49.33,  72.67,\n",
       "        84.  ,  93.33, 116.33])"
      ]
     },
     "execution_count": 16,
     "metadata": {},
     "output_type": "execute_result"
    }
   ],
   "source": [
    "# Problem Statement 2:\n",
    "# Given a sequence of n values x1, x2, ..., xn and a window size k>0, the k-th moving average of\n",
    "# the given sequence is defined as follows:\n",
    "# The moving average sequence has n-k+1 elements as shown below.\n",
    "# The moving averages with k=4 of a ten-value sequence (n=10) is shown below\n",
    "# i 1 2 3 4 5 6 7 8 9 10\n",
    "# ===== == == == == == == == == == ==\n",
    "# Input 10 20 30 40 50 60 70 80 90 100\n",
    "# y1 25 = (10+20+30+40)/4\n",
    "# y2 35 = (20+30+40+50)/4\n",
    "# y3 45 = (30+40+50+60)/4\n",
    "# y4 55 = (40+50+60+70)/4\n",
    "# y5 65 = (50+60+70+80)/4\n",
    "# y6 75 = (60+70+80+90)/4\n",
    "# y7 85 = (70+80+90+100)/4\n",
    "# Thus, the moving average sequence has n-k+1=10-4+1=7 values.\n",
    "\n",
    "import numpy as np\n",
    "\n",
    "def mov_avg(a,n):\n",
    "    \n",
    "    asum = np.cumsum(a,dtype=float)\n",
    "    asum[n:]-= asum[:-n]\n",
    "    return asum[n-1:]/n\n",
    "    \n",
    "a = a=[3, 5, 7, 2, 8, 10, 11, 65, 72, 81, 99, 100, 150]\n",
    "np.array(mov_avg(np.array(a),n=3)).round(2) \n",
    "    \n",
    "    "
   ]
  },
  {
   "cell_type": "code",
   "execution_count": null,
   "metadata": {},
   "outputs": [],
   "source": []
  },
  {
   "cell_type": "code",
   "execution_count": null,
   "metadata": {},
   "outputs": [],
   "source": []
  }
 ],
 "metadata": {
  "kernelspec": {
   "display_name": "Python 3",
   "language": "python",
   "name": "python3"
  },
  "language_info": {
   "codemirror_mode": {
    "name": "ipython",
    "version": 3
   },
   "file_extension": ".py",
   "mimetype": "text/x-python",
   "name": "python",
   "nbconvert_exporter": "python",
   "pygments_lexer": "ipython3",
   "version": "3.8.5"
  }
 },
 "nbformat": 4,
 "nbformat_minor": 4
}
